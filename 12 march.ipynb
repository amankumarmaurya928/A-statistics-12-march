{
 "cells": [
  {
   "cell_type": "code",
   "execution_count": 1,
   "id": "247515bc-af83-4319-99ba-3cd15cf8b004",
   "metadata": {},
   "outputs": [
    {
     "name": "stderr",
     "output_type": "stream",
     "text": [
      "/tmp/ipykernel_3270/769580034.py:8: DeprecationWarning: Use of keyword argument `alpha` for method `interval` is deprecated. Use first positional argument or keyword argument `confidence` instead.\n",
      "  st.t.interval(alpha=0.95, df=len(data)-1, loc=np.mean(data), scale=st.sem(data))\n"
     ]
    },
    {
     "data": {
      "text/plain": [
       "(47.094837284244726, 52.905162715755274)"
      ]
     },
     "execution_count": 1,
     "metadata": {},
     "output_type": "execute_result"
    }
   ],
   "source": [
    "# Q1\n",
    "import numpy as np\n",
    "import scipy.stats as st\n",
    "\n",
    "data = [48,49,51,52]\n",
    "\n",
    "#mean = 50\n",
    "st.t.interval(alpha=0.95, df=len(data)-1, loc=np.mean(data), scale=st.sem(data)) "
   ]
  },
  {
   "cell_type": "code",
   "execution_count": 2,
   "id": "4bd4b95e-ed39-4899-86e4-5ed2f443ae44",
   "metadata": {},
   "outputs": [
    {
     "name": "stdout",
     "output_type": "stream",
     "text": [
      "21.25\n",
      "0.0007265199496480324\n",
      "Reject the null hypothesis\n"
     ]
    }
   ],
   "source": [
    "# Q2\n",
    "import scipy.stats as stat\n",
    "import numpy as np\n",
    "## No of hours student study daily in a weekly basis\n",
    "##monday,tuesday,Wednesday,thursday,Friday,Saturday,sunday\n",
    "expected_data=[12,12,12,6,6,12]\n",
    "observed_data=[9,8,12,15,10,6]\n",
    "sum(expected_data),sum(observed_data)\n",
    "## Chi square Goodness OF Fit\n",
    "chisquare_test_statistics,p_value=stat.chisquare(observed_data,expected_data)\n",
    "print(chisquare_test_statistics),print(p_value)\n",
    "## find the critical value\n",
    "significance=0.05\n",
    "dof=len(observed_data)-1\n",
    "critical_value=stat.chi2.ppf(1-significance,dof)\n",
    "critical_value\n",
    "if chisquare_test_statistics > critical_value:\n",
    "    print(\"Reject the null hypothesis\")\n",
    "else:\n",
    "    print(\"Accept the null hypothesis\")"
   ]
  },
  {
   "cell_type": "code",
   "execution_count": 3,
   "id": "ff59de0f-32da-4cf0-93c1-06534ec2411f",
   "metadata": {},
   "outputs": [
    {
     "name": "stdout",
     "output_type": "stream",
     "text": [
      "p value is 0.05411376622282158\n",
      "Independent (Accept null hypothesis H0)\n"
     ]
    }
   ],
   "source": [
    "# Q3\n",
    "from scipy.stats import chi2_contingency\n",
    "  \n",
    "# defining the table\n",
    "data = [[20,10,15], [15,25,20]]\n",
    "stat, p, dof, expected = chi2_contingency(data)\n",
    "  \n",
    "# interpret p-value\n",
    "alpha = 0.05\n",
    "print(\"p value is \" + str(p))\n",
    "if p <= alpha:\n",
    "    print('Dependent (Reject null hypothesis H0)')\n",
    "else:\n",
    "    print('Independent (Accept null hypothesis H0)')"
   ]
  },
  {
   "cell_type": "code",
   "execution_count": 4,
   "id": "ee520ea9-60a2-48b9-a18e-6f33d3cbaf29",
   "metadata": {},
   "outputs": [
    {
     "data": {
      "text/plain": [
       "'given :\\n A coin is tossed 100 times and got 45 tails\\n so, the observation :\\n               somker              non smoker\\nobserved        60                 440\\nexpected        100                400\\n1. null hypothesis : data meet the expectation\\n   alternate hypothesis : data not meet the expectation\\n2. alpha = 0.05 , C.I = 95\\n3. degree of freedom: df = 2-1 =1\\n4. Decision boundary:\\n    if X^2 is greater than 3.84 than reject the null hypothesis\\n5. Calculating:\\n   X^2 = (100-60)^2/100 + (400-440)^2/400 = 20\\n    20 > 5.99 {true}\\n    so , reject the null hypothesis\\nAnd Answer is \\n    not meet the expectation\\n   '"
      ]
     },
     "execution_count": 4,
     "metadata": {},
     "output_type": "execute_result"
    }
   ],
   "source": [
    "# Q4\n",
    "'''given :\n",
    " A coin is tossed 100 times and got 45 tails\n",
    " so, the observation :\n",
    "               somker              non smoker\n",
    "observed        60                 440\n",
    "expected        100                400\n",
    "1. null hypothesis : data meet the expectation\n",
    "   alternate hypothesis : data not meet the expectation\n",
    "2. alpha = 0.05 , C.I = 95\n",
    "3. degree of freedom: df = 2-1 =1\n",
    "4. Decision boundary:\n",
    "    if X^2 is greater than 3.84 than reject the null hypothesis\n",
    "5. Calculating:\n",
    "   X^2 = (100-60)^2/100 + (400-440)^2/400 = 20\n",
    "    20 > 5.99 {true}\n",
    "    so , reject the null hypothesis\n",
    "And Answer is \n",
    "    not meet the expectation\n",
    "   '''"
   ]
  },
  {
   "cell_type": "code",
   "execution_count": 5,
   "id": "fc325584-9405-42be-8289-168616b1d8c4",
   "metadata": {},
   "outputs": [],
   "source": [
    "# Q5\n",
    "import numpy as np\n",
    "import scipy.stats\n",
    "\n",
    "def mean_confidence_interval(data, confidence=0.95):\n",
    "    a = 1.0 * np.array(data)\n",
    "    n = len(a)\n",
    "    m, se = np.mean(75), scipy.stats.sem(12)\n",
    "    h = se * scipy.stats.t.ppf((1 + confidence) / 2., n-1)\n",
    "    return m, m-h, m+h"
   ]
  },
  {
   "cell_type": "code",
   "execution_count": 6,
   "id": "ce920ddb-ac2b-4fd2-be3a-ac1ce1ed571b",
   "metadata": {},
   "outputs": [
    {
     "ename": "ImportError",
     "evalue": "cannot import name 'qchisq' from 'scipy' (/opt/conda/lib/python3.10/site-packages/scipy/__init__.py)",
     "output_type": "error",
     "traceback": [
      "\u001b[0;31m---------------------------------------------------------------------------\u001b[0m",
      "\u001b[0;31mImportError\u001b[0m                               Traceback (most recent call last)",
      "Cell \u001b[0;32mIn[6], line 3\u001b[0m\n\u001b[1;32m      1\u001b[0m \u001b[38;5;66;03m# Q6\u001b[39;00m\n\u001b[1;32m      2\u001b[0m \u001b[38;5;28;01mimport\u001b[39;00m \u001b[38;5;21;01mnumpy\u001b[39;00m \u001b[38;5;28;01mas\u001b[39;00m \u001b[38;5;21;01mnp\u001b[39;00m\n\u001b[0;32m----> 3\u001b[0m \u001b[38;5;28;01mfrom\u001b[39;00m \u001b[38;5;21;01mscipy\u001b[39;00m \u001b[38;5;28;01mimport\u001b[39;00m qchisq\n\u001b[1;32m      4\u001b[0m free \u001b[38;5;241m=\u001b[39m \u001b[38;5;241m10\u001b[39m\n\u001b[1;32m      5\u001b[0m qchisq(\u001b[38;5;241m15\u001b[39m, df\u001b[38;5;241m=\u001b[39mfree) \n",
      "\u001b[0;31mImportError\u001b[0m: cannot import name 'qchisq' from 'scipy' (/opt/conda/lib/python3.10/site-packages/scipy/__init__.py)"
     ]
    }
   ],
   "source": [
    "# Q6\n",
    "import numpy as np\n",
    "from scipy import qchisq\n",
    "free = 10\n",
    "qchisq(15, df=free) "
   ]
  },
  {
   "cell_type": "code",
   "execution_count": 7,
   "id": "45cc779e-4120-42d7-8bf9-00d6b4521bc8",
   "metadata": {},
   "outputs": [
    {
     "data": {
      "text/plain": [
       "'given:\\n   take sample of 1000\\n   over  520 prefer coke\\n   and the C.I = 99% , alpha = 1- .99 = 0.01\\n   1. null hypothesis = mean = 520\\n   2. alternate hypothesis = mean != 520\\n   3. based C.I we will draw decision boundary\\n    1 - .005 = 0.995\\n       z- score = 2.58\\n     than,\\n    if t is less than -2.58 or greater than 2.58, reject the null hypothesis\\n'"
      ]
     },
     "execution_count": 7,
     "metadata": {},
     "output_type": "execute_result"
    }
   ],
   "source": [
    "# Q7\n",
    "'''given:\n",
    "   take sample of 1000\n",
    "   over  520 prefer coke\n",
    "   and the C.I = 99% , alpha = 1- .99 = 0.01\n",
    "   1. null hypothesis = mean = 520\n",
    "   2. alternate hypothesis = mean != 520\n",
    "   3. based C.I we will draw decision boundary\n",
    "    1 - .005 = 0.995\n",
    "       z- score = 2.58\n",
    "     than,\n",
    "    if t is less than -2.58 or greater than 2.58, reject the null hypothesis\n",
    "'''"
   ]
  },
  {
   "cell_type": "code",
   "execution_count": 8,
   "id": "77ed04f6-9ca4-4b0d-a19e-898962dec623",
   "metadata": {},
   "outputs": [
    {
     "data": {
      "text/plain": [
       "'given :\\n A coin is tossed 100 times and got 45 tails\\n so, the observation :\\n                head                tail\\nobserved        55                   45\\nexpected        50                   50\\n1. null hypothesis : data meet the expectation\\n   alternate hypothesis : data not meet the expectation\\n2. alpha = 0.05 , C.I = 95\\n3. degree of freedom: df = 2-1 =1\\n4. Decision boundary:\\n    if X^2 is greater than 3.84 than reject the null hypothesis\\n5. Calculating:\\n   X^2 = (50-55)^2/50 + (50-45)^2/50 = 1\\n    1 > 5.99 {false}\\n    so , accept the null hypothesis\\nAnd Answer is \\n   coin is fair\\n   '"
      ]
     },
     "execution_count": 8,
     "metadata": {},
     "output_type": "execute_result"
    }
   ],
   "source": [
    "# Q8\n",
    "'''given :\n",
    " A coin is tossed 100 times and got 45 tails\n",
    " so, the observation :\n",
    "                head                tail\n",
    "observed        55                   45\n",
    "expected        50                   50\n",
    "1. null hypothesis : data meet the expectation\n",
    "   alternate hypothesis : data not meet the expectation\n",
    "2. alpha = 0.05 , C.I = 95\n",
    "3. degree of freedom: df = 2-1 =1\n",
    "4. Decision boundary:\n",
    "    if X^2 is greater than 3.84 than reject the null hypothesis\n",
    "5. Calculating:\n",
    "   X^2 = (50-55)^2/50 + (50-45)^2/50 = 1\n",
    "    1 > 5.99 {false}\n",
    "    so , accept the null hypothesis\n",
    "And Answer is \n",
    "   coin is fair\n",
    "   '''"
   ]
  },
  {
   "cell_type": "code",
   "execution_count": 9,
   "id": "30df0ba1-8e9e-400d-9f90-6bbb95b67084",
   "metadata": {},
   "outputs": [
    {
     "data": {
      "text/plain": [
       "'given :\\n A coin is tossed 100 times and got 45 tails\\n so, the observation :\\n               somker               non-somker\\nobserved        30                 15\\nexpected        90                  0\\n1. null hypothesis : data meet the expectation\\n   alternate hypothesis : data not meet the expectation\\n2. alpha = 0.05 , C.I = 95\\n3. degree of freedom: df = 2-1 =1\\n4. Decision boundary:\\n    if X^2 is greater than 3.84 than reject the null hypothesis\\n5. Calculating:\\n   X^2 = (90-30)^2/90 + (0-15)^2/0 = 40\\n    40 > 5.99 {true}\\n    so , reject the null hypothesis\\nAnd Answer is \\n   the lung cancer disease in population is different than expectation.\\n   '"
      ]
     },
     "execution_count": 9,
     "metadata": {},
     "output_type": "execute_result"
    }
   ],
   "source": [
    "# Q9\n",
    "'''given :\n",
    " A coin is tossed 100 times and got 45 tails\n",
    " so, the observation :\n",
    "               somker               non-somker\n",
    "observed        30                 15\n",
    "expected        90                  0\n",
    "1. null hypothesis : data meet the expectation\n",
    "   alternate hypothesis : data not meet the expectation\n",
    "2. alpha = 0.05 , C.I = 95\n",
    "3. degree of freedom: df = 2-1 =1\n",
    "4. Decision boundary:\n",
    "    if X^2 is greater than 3.84 than reject the null hypothesis\n",
    "5. Calculating:\n",
    "   X^2 = (90-30)^2/90 + (0-15)^2/0 = 40\n",
    "    40 > 5.99 {true}\n",
    "    so , reject the null hypothesis\n",
    "And Answer is \n",
    "   the lung cancer disease in population is different than expectation.\n",
    "   '''"
   ]
  },
  {
   "cell_type": "code",
   "execution_count": 10,
   "id": "5c2fa4f2-bdf5-41fa-affc-5dd2d60dada6",
   "metadata": {},
   "outputs": [
    {
     "data": {
      "text/plain": [
       "'given :\\n A coin is tossed 100 times and got 45 tails\\n so, the observation :\\n               Milk Chocolate        dark chocolate      white chocolate      \\nobserved        225                   175                  100\\nexpected        200                   150                  150\\n1. null hypothesis : data meet the expectation\\n   alternate hypothesis : data not meet the expectation\\n2. alpha = 0.01 , C.I = 99\\n3. degree of freedom: df = 3-1 =2\\n4. Decision boundary:\\n    if X^2 is greater than 4.61 than reject the null hypothesis\\n5. Calculating:\\n   X^2 = (200-255)^2/200 + (150-175)^2/150 + (150-100)^2/150 = 31.785\\n    31.785 > 5.99 {true}\\n    so , reject the null hypothesis\\nAnd Answer is \\n   the expectation of survey is not meet.\\n   '"
      ]
     },
     "execution_count": 10,
     "metadata": {},
     "output_type": "execute_result"
    }
   ],
   "source": [
    "# Q10\n",
    "'''given :\n",
    " A coin is tossed 100 times and got 45 tails\n",
    " so, the observation :\n",
    "               Milk Chocolate        dark chocolate      white chocolate      \n",
    "observed        225                   175                  100\n",
    "expected        200                   150                  150\n",
    "1. null hypothesis : data meet the expectation\n",
    "   alternate hypothesis : data not meet the expectation\n",
    "2. alpha = 0.01 , C.I = 99\n",
    "3. degree of freedom: df = 3-1 =2\n",
    "4. Decision boundary:\n",
    "    if X^2 is greater than 4.61 than reject the null hypothesis\n",
    "5. Calculating:\n",
    "   X^2 = (200-255)^2/200 + (150-175)^2/150 + (150-100)^2/150 = 31.785\n",
    "    31.785 > 5.99 {true}\n",
    "    so , reject the null hypothesis\n",
    "And Answer is \n",
    "   the expectation of survey is not meet.\n",
    "   '''"
   ]
  },
  {
   "cell_type": "code",
   "execution_count": 11,
   "id": "7bbe2d83-ef3d-419f-9996-451ed5f14205",
   "metadata": {},
   "outputs": [
    {
     "data": {
      "text/plain": [
       "'given:\\n        C.I = 95%, mean = 72, std = 10, sample_mean = 70\\n        alpha = 1 - .95 = .05,  n = 30\\n   1. null hypothesis = u = 72\\n   2. alternate hypothesis = u < 70 [one tail test]\\n   3. based C.I we will draw decision boundary\\n1-.025=.9750\\n   z-score= 1.96\\n   if z is less than -1.96,\\n      reject the null hypothesis.\\n    4.Calculation:\\n    Zd = (sample_mean - u)/(std/sqrt n) = (70-72)/(10/sqrt30)\\n    Zd = 1.09\\n    So, 1.09 > -1.96\\n     we accept null hypothesis\\n'"
      ]
     },
     "execution_count": 11,
     "metadata": {},
     "output_type": "execute_result"
    }
   ],
   "source": [
    "# Q11\n",
    "'''given:\n",
    "        C.I = 95%, mean = 72, std = 10, sample_mean = 70\n",
    "        alpha = 1 - .95 = .05,  n = 30\n",
    "   1. null hypothesis = u = 72\n",
    "   2. alternate hypothesis = u < 70 [one tail test]\n",
    "   3. based C.I we will draw decision boundary\n",
    "1-.025=.9750\n",
    "   z-score= 1.96\n",
    "   if z is less than -1.96,\n",
    "      reject the null hypothesis.\n",
    "    4.Calculation:\n",
    "    Zd = (sample_mean - u)/(std/sqrt n) = (70-72)/(10/sqrt30)\n",
    "    Zd = 1.09\n",
    "    So, 1.09 > -1.96\n",
    "     we accept null hypothesis\n",
    "'''"
   ]
  },
  {
   "cell_type": "code",
   "execution_count": null,
   "id": "71ad116d-8575-44c8-bdaf-fc7061e63395",
   "metadata": {},
   "outputs": [],
   "source": []
  },
  {
   "cell_type": "code",
   "execution_count": null,
   "id": "83686891-3ab5-42ee-8756-417c52747027",
   "metadata": {},
   "outputs": [],
   "source": []
  }
 ],
 "metadata": {
  "kernelspec": {
   "display_name": "Python 3 (ipykernel)",
   "language": "python",
   "name": "python3"
  },
  "language_info": {
   "codemirror_mode": {
    "name": "ipython",
    "version": 3
   },
   "file_extension": ".py",
   "mimetype": "text/x-python",
   "name": "python",
   "nbconvert_exporter": "python",
   "pygments_lexer": "ipython3",
   "version": "3.10.8"
  }
 },
 "nbformat": 4,
 "nbformat_minor": 5
}
